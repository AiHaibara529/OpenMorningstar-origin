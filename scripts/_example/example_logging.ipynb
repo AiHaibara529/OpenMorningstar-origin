{
 "cells": [
  {
   "cell_type": "code",
   "execution_count": 1,
   "metadata": {},
   "outputs": [],
   "source": [
    "import logging"
   ]
  },
  {
   "cell_type": "code",
   "execution_count": 2,
   "metadata": {},
   "outputs": [],
   "source": [
    "LOG_FORMAT = \"%(asctime)s - %(levelname)s - %(message)s\"\n",
    "DATE_FORMAT = \"%m/%d/%Y %H:%M:%S %p\"\n",
    "# NOTE: 一次性配置，多次并不覆盖\n",
    "logging.basicConfig(filename='./TEMP/logging/my.log', level=logging.DEBUG, format=LOG_FORMAT, datefmt=DATE_FORMAT)"
   ]
  },
  {
   "cell_type": "code",
   "execution_count": 3,
   "metadata": {},
   "outputs": [],
   "source": [
    "logging.debug(\"This is a debug log.\")\n",
    "logging.info(\"This is a info log.\")\n",
    "logging.warning(\"Some one delete the log file.\", exc_info=True, stack_info=True, extra={'user': 'Tom', 'ip': '47.98.53.222'})\n",
    "logging.error(\"This is a error log.\")\n",
    "logging.critical(\"This is a critical log.\")"
   ]
  },
  {
   "cell_type": "code",
   "execution_count": null,
   "metadata": {},
   "outputs": [],
   "source": []
  }
 ],
 "metadata": {
  "kernelspec": {
   "display_name": "Python 3.10.4 ('env': venv)",
   "language": "python",
   "name": "python3"
  },
  "language_info": {
   "codemirror_mode": {
    "name": "ipython",
    "version": 3
   },
   "file_extension": ".py",
   "mimetype": "text/x-python",
   "name": "python",
   "nbconvert_exporter": "python",
   "pygments_lexer": "ipython3",
   "version": "3.10.4"
  },
  "orig_nbformat": 4,
  "vscode": {
   "interpreter": {
    "hash": "2593807bd92af07dd57ae9d8893d2d468231046ba314a502cfa0ed4aa36758bd"
   }
  }
 },
 "nbformat": 4,
 "nbformat_minor": 2
}
