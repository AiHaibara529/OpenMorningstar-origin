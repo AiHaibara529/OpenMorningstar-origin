{
 "cells": [
  {
   "cell_type": "code",
   "execution_count": 1,
   "metadata": {},
   "outputs": [],
   "source": [
    "import redis"
   ]
  },
  {
   "cell_type": "code",
   "execution_count": 2,
   "metadata": {},
   "outputs": [
    {
     "data": {
      "text/plain": [
       "'520'"
      ]
     },
     "execution_count": 2,
     "metadata": {},
     "output_type": "execute_result"
    }
   ],
   "source": [
    "# 直接连接redis NOTE: 每次重新连接效率较低\n",
    "conn1 = redis.StrictRedis(host='localhost', port=6379, decode_responses=True)  # password='foobared'\n",
    "conn1.set('19850052801', 520, ex=10)  # 值写入到redis时会自动转字符串\n",
    "conn1.get('19850052801')"
   ]
  },
  {
   "cell_type": "code",
   "execution_count": 3,
   "metadata": {},
   "outputs": [
    {
     "data": {
      "text/plain": [
       "'520'"
      ]
     },
     "execution_count": 3,
     "metadata": {},
     "output_type": "execute_result"
    }
   ],
   "source": [
    "# 连接池\n",
    "pool = redis.ConnectionPool(host='localhost', port=6379, decode_responses=True)  # password='foobared'\n",
    "conn = redis.StrictRedis(connection_pool=pool)\n",
    "conn.set('19850052801', 520, ex=10)  # 值写入到redis时会自动转字符串\n",
    "conn.get('19850052801')"
   ]
  },
  {
   "cell_type": "code",
   "execution_count": null,
   "metadata": {},
   "outputs": [],
   "source": []
  }
 ],
 "metadata": {
  "kernelspec": {
   "display_name": "Python 3.10.4 ('env': venv)",
   "language": "python",
   "name": "python3"
  },
  "language_info": {
   "codemirror_mode": {
    "name": "ipython",
    "version": 3
   },
   "file_extension": ".py",
   "mimetype": "text/x-python",
   "name": "python",
   "nbconvert_exporter": "python",
   "pygments_lexer": "ipython3",
   "version": "3.10.4"
  },
  "orig_nbformat": 4,
  "vscode": {
   "interpreter": {
    "hash": "2593807bd92af07dd57ae9d8893d2d468231046ba314a502cfa0ed4aa36758bd"
   }
  }
 },
 "nbformat": 4,
 "nbformat_minor": 2
}
