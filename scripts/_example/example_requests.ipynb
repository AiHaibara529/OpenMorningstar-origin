{
 "cells": [
  {
   "cell_type": "code",
   "execution_count": 1,
   "metadata": {},
   "outputs": [],
   "source": [
    "import requests\n",
    "# 科学上网代理配置\n",
    "proxies = {\"http\": \"http://127.0.0.1:1087\", \"https\": \"http://127.0.0.1:1087\",} "
   ]
  },
  {
   "cell_type": "code",
   "execution_count": 2,
   "metadata": {},
   "outputs": [
    {
     "name": "stdout",
     "output_type": "stream",
     "text": [
      "HTTP的头部信息:\n",
      "{'Server': 'nginx/1.23.1', 'Date': 'Sun, 02 Oct 2022 05:09:13 GMT', 'Content-Type': 'text/html; charset=utf-8', 'Transfer-Encoding': 'chunked', 'Connection': 'keep-alive', 'X-Frame-Options': 'SAMEORIGIN', 'Vary': 'Cookie, Origin', 'X-Content-Type-Options': 'nosniff', 'Referrer-Policy': 'same-origin', 'Cross-Origin-Opener-Policy': 'same-origin', 'Set-Cookie': 'csrftoken=pTCeh24Y1SlfluKRJiVUxZXs8ZFgQPGe; expires=Sun, 01 Oct 2023 05:09:13 GMT; Max-Age=31449600; Path=/; SameSite=Lax; Secure', 'Content-Encoding': 'gzip'}\n",
      "\n",
      "\n",
      "编码:\n",
      "utf-8\n",
      "\n",
      "\n",
      "cookies:\n",
      "<RequestsCookieJar[<Cookie csrftoken=pTCeh24Y1SlfluKRJiVUxZXs8ZFgQPGe for morningstar529.com/>]>\n",
      "\n",
      "\n",
      "实际的url:\n",
      "https://morningstar529.com/?page=1\n",
      "\n",
      "\n",
      "状态码:\n",
      "200\n",
      "\n",
      "\n"
     ]
    }
   ],
   "source": [
    "\"\"\" HTTP的get方法 \"\"\"\n",
    "response = requests.get('https://morningstar529.com/', proxies=proxies, params={'page': '1'}, timeout=2.5)\n",
    "# 查看HTTP的头部信息\n",
    "print(f\"HTTP的头部信息:\\n{response.headers}\\n\\n\")\n",
    "# 获取编码\n",
    "print(f\"编码:\\n{response.encoding}\\n\\n\")\n",
    "# 获取cookies\n",
    "print(f\"cookies:\\n{response.cookies}\\n\\n\")\n",
    "# 查看实际的url\n",
    "print(f\"实际的url:\\n{response.url}\\n\\n\")\n",
    "# 查看状态码\n",
    "print(f\"状态码:\\n{response.status_code}\\n\\n\")\n",
    "# 获取html文本\n",
    "# print(f\"html文本:\\n{response.text[:200]}\\n\\n\")\n",
    "# 无论响应是文本还是二进制内容，我们都可以用content属性获得bytes对象\n",
    "# print(f\"html内容:\\n{response.content[0:200]}\\n\\n\")"
   ]
  },
  {
   "cell_type": "code",
   "execution_count": 3,
   "metadata": {},
   "outputs": [],
   "source": [
    "\"\"\" 读取二进制 \"\"\"\n",
    "r = requests.get(\"https://morningstar529.com/get-image-captcha/\", proxies=proxies)\n",
    "r.encoding"
   ]
  },
  {
   "cell_type": "code",
   "execution_count": 4,
   "metadata": {},
   "outputs": [
    {
     "data": {
      "text/plain": [
       "[{'book_name': '生命不息，奋斗不止',\n",
       "  'category_name': '传记',\n",
       "  'author_name': '罗永浩',\n",
       "  'translator_name': None,\n",
       "  'uri': '/media/book/20220925145041/生命不息折腾不止--罗永浩.epub'},\n",
       " {'book_name': '现代JavaScript教程',\n",
       "  'category_name': '技艺',\n",
       "  'author_name': 'LeviDing',\n",
       "  'translator_name': None,\n",
       "  'uri': 'https://zh.javascript.info/download/1p4wct1/tutorial.zip'},\n",
       " {'book_name': '容忍与自由',\n",
       "  'category_name': '杂文',\n",
       "  'author_name': '胡适',\n",
       "  'translator_name': None,\n",
       "  'uri': '/media/book/20220925145543/容忍与自由--胡适.epub'},\n",
       " {'book_name': '哈利波特',\n",
       "  'category_name': '幻想',\n",
       "  'author_name': 'J·K·罗琳',\n",
       "  'translator_name': None,\n",
       "  'uri': '/media/book/20220925154252/哈利波特--JK罗琳.epub'},\n",
       " {'book_name': '思考,快与慢',\n",
       "  'category_name': '思维',\n",
       "  'author_name': '丹尼尔•卡尼曼',\n",
       "  'translator_name': None,\n",
       "  'uri': '/media/book/20220925154549/思考快与慢--丹尼尔卡尼曼.epub'},\n",
       " {'book_name': '中国文脉',\n",
       "  'category_name': '文化',\n",
       "  'author_name': '余秋雨',\n",
       "  'translator_name': None,\n",
       "  'uri': '/media/book/20220925154728/中国文脉--余秋雨.epub'},\n",
       " {'book_name': '黄金时代',\n",
       "  'category_name': '小说',\n",
       "  'author_name': '王小波',\n",
       "  'translator_name': None,\n",
       "  'uri': '/media/book/20220925155709/黄金时代--王小波.epub'},\n",
       " {'book_name': '美国种族简史',\n",
       "  'category_name': '政史',\n",
       "  'author_name': '托马斯·索威尔',\n",
       "  'translator_name': None,\n",
       "  'uri': '/media/book/20220925160723/美国种族简史--托马斯索威尔.epub'},\n",
       " {'book_name': '小狗钱钱',\n",
       "  'category_name': '财经',\n",
       "  'author_name': '博多·舍费尔',\n",
       "  'translator_name': None,\n",
       "  'uri': '/media/book/20220925161201/小狗钱钱--博多舍费尔.epub'}]"
      ]
     },
     "execution_count": 4,
     "metadata": {},
     "output_type": "execute_result"
    }
   ],
   "source": [
    "\"\"\" 读取json \"\"\"\n",
    "r = requests.get(\"https://morningstar529.com/book/api/\", proxies = proxies)\n",
    "r.json()"
   ]
  },
  {
   "cell_type": "markdown",
   "metadata": {},
   "source": [
    "#### POST中解决csrf问题\n",
    "在使用Python中的request模块的post请求时，由于网站开启了csrf跨站请求攻击，会出现403错误。  \n",
    "因为我们在使用post的时候没有携带csrf数据去验证，网站会不认可我们。  \n",
    "因此我们需要第一次的时候使用get请求，然后使用re正则匹配到这个csrf-token命令，取出来这个命令，\n",
    "然后在使用post发送请求，在请求中的数据中添加csrf的键值对，然后就可以使用post访问到网上了，并且也可以post请求携带数据。"
   ]
  },
  {
   "cell_type": "code",
   "execution_count": null,
   "metadata": {},
   "outputs": [],
   "source": []
  }
 ],
 "metadata": {
  "kernelspec": {
   "display_name": "Python 3.10.6 ('VENV': venv)",
   "language": "python",
   "name": "python3"
  },
  "language_info": {
   "codemirror_mode": {
    "name": "ipython",
    "version": 3
   },
   "file_extension": ".py",
   "mimetype": "text/x-python",
   "name": "python",
   "nbconvert_exporter": "python",
   "pygments_lexer": "ipython3",
   "version": "3.10.6"
  },
  "orig_nbformat": 4,
  "vscode": {
   "interpreter": {
    "hash": "3db281a8f50970a4e544521e6c368b5883e7c272df0dff394336c4ceef88e26a"
   }
  }
 },
 "nbformat": 4,
 "nbformat_minor": 2
}
